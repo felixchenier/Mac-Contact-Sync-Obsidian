{
  "nbformat": 4,
  "nbformat_minor": 0,
  "metadata": {
    "colab": {
      "provenance": [],
      "authorship_tag": "ABX9TyNYREYHgztOD99Y7J80akCO",
      "include_colab_link": true
    },
    "kernelspec": {
      "name": "python3",
      "display_name": "Python 3"
    },
    "language_info": {
      "name": "python"
    }
  },
  "cells": [
    {
      "cell_type": "markdown",
      "metadata": {
        "id": "view-in-github",
        "colab_type": "text"
      },
      "source": [
        "<a href=\"https://colab.research.google.com/github/felixchenier/Mac-Contact-Sync-Obsidian/blob/main/pushrimkinetics.ipynb\" target=\"_parent\"><img src=\"https://colab.research.google.com/assets/colab-badge.svg\" alt=\"Open In Colab\"/></a>"
      ]
    },
    {
      "cell_type": "markdown",
      "source": [
        "# Processing data from an instrumented wheelchair wheel\n",
        "\n",
        "The `pushrimkinetics` extension to Kinetics Toolkit provides functions to read and process kinetic data from instrumented wheelchair wheels such as the SmartWheel.\n",
        "\n",
        "This extension is available [here](https://github.com/kineticstoolkit/kineticstoolkit_pushrimkinetics), and will be installed alongside Kinetics Toolkit in this tutorial."
      ],
      "metadata": {
        "id": "ElxMV_dfvkl9"
      }
    },
    {
      "cell_type": "markdown",
      "source": [
        "\n",
        "## Installing Kinetics Toolkit and the `pushrimkinetics` extension"
      ],
      "metadata": {
        "id": "7y11MOc61x9Z"
      }
    },
    {
      "cell_type": "code",
      "execution_count": 1,
      "metadata": {
        "colab": {
          "base_uri": "https://localhost:8080/"
        },
        "id": "lQ4e9kJjuuY_",
        "outputId": "0ef9483e-d0c3-4508-fd3b-8b6bc502098a"
      },
      "outputs": [
        {
          "output_type": "stream",
          "name": "stdout",
          "text": [
            "Collecting git+https://github.com/felixchenier/kineticstoolkit_pushrimkinetics\n",
            "  Cloning https://github.com/felixchenier/kineticstoolkit_pushrimkinetics to /tmp/pip-req-build-tyd75zlm\n",
            "  Running command git clone --filter=blob:none --quiet https://github.com/felixchenier/kineticstoolkit_pushrimkinetics /tmp/pip-req-build-tyd75zlm\n",
            "  Resolved https://github.com/felixchenier/kineticstoolkit_pushrimkinetics to commit bd00eee68e183577bd157f54feb6f99c1a4fce29\n",
            "  Preparing metadata (setup.py) ... \u001b[?25l\u001b[?25hdone\n",
            "Collecting kineticstoolkit\n",
            "  Downloading kineticstoolkit-0.16.0-py3-none-any.whl.metadata (3.9 kB)\n",
            "Collecting ezc3d (from kineticstoolkit)\n",
            "  Downloading ezc3d-1.5.18-cp311-cp311-manylinux_2_17_x86_64.manylinux2014_x86_64.whl.metadata (48 kB)\n",
            "\u001b[2K     \u001b[90m━━━━━━━━━━━━━━━━━━━━━━━━━━━━━━━━━━━━━━━━\u001b[0m \u001b[32m48.9/48.9 kB\u001b[0m \u001b[31m1.8 MB/s\u001b[0m eta \u001b[36m0:00:00\u001b[0m\n",
            "\u001b[?25hRequirement already satisfied: pandas in /usr/local/lib/python3.11/dist-packages (from kineticstoolkit) (2.2.2)\n",
            "Collecting pyqt5 (from kineticstoolkit)\n",
            "  Downloading PyQt5-5.15.11-cp38-abi3-manylinux_2_17_x86_64.whl.metadata (2.1 kB)\n",
            "Requirement already satisfied: scipy in /usr/local/lib/python3.11/dist-packages (from kineticstoolkit) (1.14.1)\n",
            "Requirement already satisfied: matplotlib in /usr/local/lib/python3.11/dist-packages (from kineticstoolkit) (3.10.0)\n",
            "Requirement already satisfied: scikit-learn in /usr/local/lib/python3.11/dist-packages (from kineticstoolkit) (1.6.1)\n",
            "Collecting limitedinteraction (from kineticstoolkit)\n",
            "  Downloading limitedinteraction-0.2.2-py3-none-any.whl.metadata (5.4 kB)\n",
            "Requirement already satisfied: tqdm in /usr/local/lib/python3.11/dist-packages (from kineticstoolkit) (4.67.1)\n",
            "Requirement already satisfied: requests in /usr/local/lib/python3.11/dist-packages (from kineticstoolkit) (2.32.3)\n",
            "Collecting requests-cache (from kineticstoolkit)\n",
            "  Downloading requests_cache-1.2.1-py3-none-any.whl.metadata (9.9 kB)\n",
            "Requirement already satisfied: numpy in /usr/local/lib/python3.11/dist-packages (from ezc3d->kineticstoolkit) (1.26.4)\n",
            "Requirement already satisfied: contourpy>=1.0.1 in /usr/local/lib/python3.11/dist-packages (from matplotlib->kineticstoolkit) (1.3.1)\n",
            "Requirement already satisfied: cycler>=0.10 in /usr/local/lib/python3.11/dist-packages (from matplotlib->kineticstoolkit) (0.12.1)\n",
            "Requirement already satisfied: fonttools>=4.22.0 in /usr/local/lib/python3.11/dist-packages (from matplotlib->kineticstoolkit) (4.56.0)\n",
            "Requirement already satisfied: kiwisolver>=1.3.1 in /usr/local/lib/python3.11/dist-packages (from matplotlib->kineticstoolkit) (1.4.8)\n",
            "Requirement already satisfied: packaging>=20.0 in /usr/local/lib/python3.11/dist-packages (from matplotlib->kineticstoolkit) (24.2)\n",
            "Requirement already satisfied: pillow>=8 in /usr/local/lib/python3.11/dist-packages (from matplotlib->kineticstoolkit) (11.1.0)\n",
            "Requirement already satisfied: pyparsing>=2.3.1 in /usr/local/lib/python3.11/dist-packages (from matplotlib->kineticstoolkit) (3.2.1)\n",
            "Requirement already satisfied: python-dateutil>=2.7 in /usr/local/lib/python3.11/dist-packages (from matplotlib->kineticstoolkit) (2.8.2)\n",
            "Requirement already satisfied: pytz>=2020.1 in /usr/local/lib/python3.11/dist-packages (from pandas->kineticstoolkit) (2025.1)\n",
            "Requirement already satisfied: tzdata>=2022.7 in /usr/local/lib/python3.11/dist-packages (from pandas->kineticstoolkit) (2025.1)\n",
            "Collecting PyQt5-sip<13,>=12.15 (from pyqt5->kineticstoolkit)\n",
            "  Downloading PyQt5_sip-12.17.0-cp311-cp311-manylinux_2_5_x86_64.manylinux1_x86_64.whl.metadata (472 bytes)\n",
            "Collecting PyQt5-Qt5<5.16.0,>=5.15.2 (from pyqt5->kineticstoolkit)\n",
            "  Downloading PyQt5_Qt5-5.15.16-1-py3-none-manylinux2014_x86_64.whl.metadata (536 bytes)\n",
            "Requirement already satisfied: charset-normalizer<4,>=2 in /usr/local/lib/python3.11/dist-packages (from requests->kineticstoolkit) (3.4.1)\n",
            "Requirement already satisfied: idna<4,>=2.5 in /usr/local/lib/python3.11/dist-packages (from requests->kineticstoolkit) (3.10)\n",
            "Requirement already satisfied: urllib3<3,>=1.21.1 in /usr/local/lib/python3.11/dist-packages (from requests->kineticstoolkit) (2.3.0)\n",
            "Requirement already satisfied: certifi>=2017.4.17 in /usr/local/lib/python3.11/dist-packages (from requests->kineticstoolkit) (2025.1.31)\n",
            "Requirement already satisfied: attrs>=21.2 in /usr/local/lib/python3.11/dist-packages (from requests-cache->kineticstoolkit) (25.1.0)\n",
            "Collecting cattrs>=22.2 (from requests-cache->kineticstoolkit)\n",
            "  Downloading cattrs-24.1.2-py3-none-any.whl.metadata (8.4 kB)\n",
            "Requirement already satisfied: platformdirs>=2.5 in /usr/local/lib/python3.11/dist-packages (from requests-cache->kineticstoolkit) (4.3.6)\n",
            "Collecting url-normalize>=1.4 (from requests-cache->kineticstoolkit)\n",
            "  Downloading url_normalize-1.4.3-py2.py3-none-any.whl.metadata (3.1 kB)\n",
            "Requirement already satisfied: joblib>=1.2.0 in /usr/local/lib/python3.11/dist-packages (from scikit-learn->kineticstoolkit) (1.4.2)\n",
            "Requirement already satisfied: threadpoolctl>=3.1.0 in /usr/local/lib/python3.11/dist-packages (from scikit-learn->kineticstoolkit) (3.5.0)\n",
            "Requirement already satisfied: six>=1.5 in /usr/local/lib/python3.11/dist-packages (from python-dateutil>=2.7->matplotlib->kineticstoolkit) (1.17.0)\n",
            "Downloading kineticstoolkit-0.16.0-py3-none-any.whl (123 kB)\n",
            "\u001b[2K   \u001b[90m━━━━━━━━━━━━━━━━━━━━━━━━━━━━━━━━━━━━━━━━\u001b[0m \u001b[32m123.6/123.6 kB\u001b[0m \u001b[31m4.3 MB/s\u001b[0m eta \u001b[36m0:00:00\u001b[0m\n",
            "\u001b[?25hDownloading ezc3d-1.5.18-cp311-cp311-manylinux_2_17_x86_64.manylinux2014_x86_64.whl (1.2 MB)\n",
            "\u001b[2K   \u001b[90m━━━━━━━━━━━━━━━━━━━━━━━━━━━━━━━━━━━━━━━━\u001b[0m \u001b[32m1.2/1.2 MB\u001b[0m \u001b[31m24.2 MB/s\u001b[0m eta \u001b[36m0:00:00\u001b[0m\n",
            "\u001b[?25hDownloading limitedinteraction-0.2.2-py3-none-any.whl (359 kB)\n",
            "\u001b[2K   \u001b[90m━━━━━━━━━━━━━━━━━━━━━━━━━━━━━━━━━━━━━━━━\u001b[0m \u001b[32m359.6/359.6 kB\u001b[0m \u001b[31m22.8 MB/s\u001b[0m eta \u001b[36m0:00:00\u001b[0m\n",
            "\u001b[?25hDownloading PyQt5-5.15.11-cp38-abi3-manylinux_2_17_x86_64.whl (8.2 MB)\n",
            "\u001b[2K   \u001b[90m━━━━━━━━━━━━━━━━━━━━━━━━━━━━━━━━━━━━━━━━\u001b[0m \u001b[32m8.2/8.2 MB\u001b[0m \u001b[31m68.4 MB/s\u001b[0m eta \u001b[36m0:00:00\u001b[0m\n",
            "\u001b[?25hDownloading requests_cache-1.2.1-py3-none-any.whl (61 kB)\n",
            "\u001b[2K   \u001b[90m━━━━━━━━━━━━━━━━━━━━━━━━━━━━━━━━━━━━━━━━\u001b[0m \u001b[32m61.4/61.4 kB\u001b[0m \u001b[31m3.6 MB/s\u001b[0m eta \u001b[36m0:00:00\u001b[0m\n",
            "\u001b[?25hDownloading cattrs-24.1.2-py3-none-any.whl (66 kB)\n",
            "\u001b[2K   \u001b[90m━━━━━━━━━━━━━━━━━━━━━━━━━━━━━━━━━━━━━━━━\u001b[0m \u001b[32m66.4/66.4 kB\u001b[0m \u001b[31m4.1 MB/s\u001b[0m eta \u001b[36m0:00:00\u001b[0m\n",
            "\u001b[?25hDownloading PyQt5_Qt5-5.15.16-1-py3-none-manylinux2014_x86_64.whl (61.1 MB)\n",
            "\u001b[2K   \u001b[90m━━━━━━━━━━━━━━━━━━━━━━━━━━━━━━━━━━━━━━━━\u001b[0m \u001b[32m61.1/61.1 MB\u001b[0m \u001b[31m13.9 MB/s\u001b[0m eta \u001b[36m0:00:00\u001b[0m\n",
            "\u001b[?25hDownloading PyQt5_sip-12.17.0-cp311-cp311-manylinux_2_5_x86_64.manylinux1_x86_64.whl (276 kB)\n",
            "\u001b[2K   \u001b[90m━━━━━━━━━━━━━━━━━━━━━━━━━━━━━━━━━━━━━━━━\u001b[0m \u001b[32m276.4/276.4 kB\u001b[0m \u001b[31m12.8 MB/s\u001b[0m eta \u001b[36m0:00:00\u001b[0m\n",
            "\u001b[?25hDownloading url_normalize-1.4.3-py2.py3-none-any.whl (6.8 kB)\n",
            "Building wheels for collected packages: kineticstoolkit_pushrimkinetics\n",
            "  Building wheel for kineticstoolkit_pushrimkinetics (setup.py) ... \u001b[?25l\u001b[?25hdone\n",
            "  Created wheel for kineticstoolkit_pushrimkinetics: filename=kineticstoolkit_pushrimkinetics-0.1.dev19+gbd00eee-py3-none-any.whl size=10512 sha256=99f6b597784826a02624b0c5e8efb63a5ca1a17d631e372249e5a074d9220471\n",
            "  Stored in directory: /tmp/pip-ephem-wheel-cache-nkoo2fav/wheels/36/16/ee/b9a4f7c7975c882b8c5c53cb6cfe11ffae78efff18d8c106bb\n",
            "Successfully built kineticstoolkit_pushrimkinetics\n",
            "Installing collected packages: PyQt5-Qt5, url-normalize, PyQt5-sip, limitedinteraction, ezc3d, cattrs, requests-cache, pyqt5, kineticstoolkit, kineticstoolkit_pushrimkinetics\n",
            "Successfully installed PyQt5-Qt5-5.15.16 PyQt5-sip-12.17.0 cattrs-24.1.2 ezc3d-1.5.18 kineticstoolkit-0.16.0 kineticstoolkit_pushrimkinetics-0.1.dev19+gbd00eee limitedinteraction-0.2.2 pyqt5-5.15.11 requests-cache-1.2.1 url-normalize-1.4.3\n"
          ]
        }
      ],
      "source": [
        "!pip install kineticstoolkit git+https://github.com/felixchenier/kineticstoolkit_pushrimkinetics"
      ]
    },
    {
      "cell_type": "markdown",
      "source": [
        "##"
      ],
      "metadata": {
        "id": "I4BsntxyxsFQ"
      }
    },
    {
      "cell_type": "markdown",
      "source": [],
      "metadata": {
        "id": "vjuHbcqc2eQI"
      }
    },
    {
      "cell_type": "code",
      "source": [],
      "metadata": {
        "id": "fCC7U6FVwKFa"
      },
      "execution_count": null,
      "outputs": []
    }
  ]
}